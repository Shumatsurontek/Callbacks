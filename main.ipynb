{
 "cells": [
  {
   "metadata": {},
   "cell_type": "markdown",
   "source": "# Callbacks",
   "id": "56b8bdbdc5d3d171"
  },
  {
   "cell_type": "code",
   "id": "initial_id",
   "metadata": {
    "collapsed": true,
    "ExecuteTime": {
     "end_time": "2024-09-05T08:19:18.662746Z",
     "start_time": "2024-09-05T08:19:18.656069Z"
    }
   },
   "source": [
    "from tensorflow.keras.datasets import mnist\n",
    "from tensorflow.keras.models import Sequential\n",
    "from tensorflow.keras.layers import Flatten, Dense, Dropout\n",
    "from tensorflow.keras.optimizers import Adam\n",
    "from tensorflow.keras.callbacks import ModelCheckpoint, EarlyStopping, LearningRateScheduler\n",
    "from tensorflow.keras.callbacks import TensorBoard, Callback"
   ],
   "outputs": [],
   "execution_count": 29
  },
  {
   "metadata": {
    "ExecuteTime": {
     "end_time": "2024-09-05T08:01:12.535267Z",
     "start_time": "2024-09-05T08:01:11.772242Z"
    }
   },
   "cell_type": "code",
   "source": [
    "(X_train, y_train), (X_test, y_test) = mnist.load_data()\n",
    "X_train, X_test = X_train / 255.0, X_test / 255.0 #normalization\n",
    "\n",
    "model = Sequential([\n",
    "    Flatten(input_shape=(28, 28)),\n",
    "    Dense(128, activation='relu'),\n",
    "    Dropout(0.2),#regularization\n",
    "    Dense(10, activation='softmax')\n",
    "])\n",
    "\n",
    "model.compile(optimizer = Adam(learning_rate = 0.01), loss = 'sparse_categorical_crossentropy', metrics = ['accuracy'])"
   ],
   "id": "d7c67d96d2202ae6",
   "outputs": [],
   "execution_count": 6
  },
  {
   "metadata": {
    "ExecuteTime": {
     "end_time": "2024-09-05T08:05:03.854213Z",
     "start_time": "2024-09-05T08:05:03.847548Z"
    }
   },
   "cell_type": "code",
   "source": [
    "model_checkpoint_cb = ModelCheckpoint(\n",
    "    filepath = 'saved_models/model{epoch:02d}.keras',\n",
    "    verbose = 2,\n",
    "    save_best_only = True\n",
    ")"
   ],
   "id": "be33519a9c770183",
   "outputs": [],
   "execution_count": 9
  },
  {
   "metadata": {
    "ExecuteTime": {
     "end_time": "2024-09-05T08:08:02.916498Z",
     "start_time": "2024-09-05T08:08:02.909670Z"
    }
   },
   "cell_type": "code",
   "source": [
    "early_stopping_cb = EarlyStopping(\n",
    "    patience = 10\n",
    ")"
   ],
   "id": "6c9d0c15c16e380c",
   "outputs": [],
   "execution_count": 13
  },
  {
   "metadata": {
    "ExecuteTime": {
     "end_time": "2024-09-05T08:11:15.760053Z",
     "start_time": "2024-09-05T08:11:15.747343Z"
    }
   },
   "cell_type": "code",
   "source": [
    "import math\n",
    "\n",
    "def scheduler(epoch, lr):\n",
    "    print('LEARNING_RATE:', lr)\n",
    "    if epoch < 5 :\n",
    "        return lr\n",
    "    else :\n",
    "        return lr * math.exp(-0.1)\n",
    "    \n",
    "learning_rate_scheduler_cb = LearningRateScheduler(scheduler)"
   ],
   "id": "ea275854a3249b7f",
   "outputs": [],
   "execution_count": 16
  },
  {
   "metadata": {
    "ExecuteTime": {
     "end_time": "2024-09-05T08:16:09.148518Z",
     "start_time": "2024-09-05T08:16:09.143173Z"
    }
   },
   "cell_type": "code",
   "source": "tensorboard_cb = TensorBoard('logs', update_freq=1)",
   "id": "a3a6dd3dcb920234",
   "outputs": [],
   "execution_count": 27
  },
  {
   "metadata": {
    "ExecuteTime": {
     "end_time": "2024-09-05T08:22:12.992645Z",
     "start_time": "2024-09-05T08:22:12.982717Z"
    }
   },
   "cell_type": "code",
   "source": [
    "class CustomLoger(Callback):\n",
    "    def __init__(self, logfile):\n",
    "        super().__init__()\n",
    "        self.logfile = logfile\n",
    "    def on_epoch_end(self, epoch, logs):\n",
    "        with open(self.logfile, 'a+') as f:\n",
    "            f.write(f\"Epoch {epoch} : Validation Loss : {logs['val_loss']}\" + '\\n')"
   ],
   "id": "c5f1b4efdc58cc02",
   "outputs": [],
   "execution_count": 30
  },
  {
   "metadata": {
    "ExecuteTime": {
     "end_time": "2024-09-05T08:22:41.901892Z",
     "start_time": "2024-09-05T08:22:41.894728Z"
    }
   },
   "cell_type": "code",
   "source": "custom_logger_cb = CustomLoger('mylog.txt')",
   "id": "daec0193d0013313",
   "outputs": [],
   "execution_count": 31
  },
  {
   "metadata": {
    "ExecuteTime": {
     "end_time": "2024-09-05T08:23:46.295716Z",
     "start_time": "2024-09-05T08:22:48.725220Z"
    }
   },
   "cell_type": "code",
   "source": "model.fit(X_train, y_train, epochs = 50, validation_data = (X_test, y_test), callbacks = [model_checkpoint_cb, early_stopping_cb, learning_rate_scheduler_cb, tensorboard_cb, custom_logger_cb])",
   "id": "85b242f9731904d",
   "outputs": [
    {
     "name": "stdout",
     "output_type": "stream",
     "text": [
      "LEARNING_RATE: 0.009999999776482582\n",
      "Epoch 1/50\n",
      "\u001B[1m1867/1875\u001B[0m \u001B[32m━━━━━━━━━━━━━━━━━━━\u001B[0m\u001B[37m━\u001B[0m \u001B[1m0s\u001B[0m 5ms/step - accuracy: 0.9617 - loss: 0.1484\n",
      "Epoch 1: val_loss did not improve from 0.16758\n",
      "\u001B[1m1875/1875\u001B[0m \u001B[32m━━━━━━━━━━━━━━━━━━━━\u001B[0m\u001B[37m\u001B[0m \u001B[1m11s\u001B[0m 6ms/step - accuracy: 0.9617 - loss: 0.1484 - val_accuracy: 0.9652 - val_loss: 0.2545 - learning_rate: 0.0100\n",
      "LEARNING_RATE: 0.009999999776482582\n",
      "Epoch 2/50\n",
      "\u001B[1m1868/1875\u001B[0m \u001B[32m━━━━━━━━━━━━━━━━━━━\u001B[0m\u001B[37m━\u001B[0m \u001B[1m0s\u001B[0m 5ms/step - accuracy: 0.9607 - loss: 0.1664\n",
      "Epoch 2: val_loss did not improve from 0.16758\n",
      "\u001B[1m1875/1875\u001B[0m \u001B[32m━━━━━━━━━━━━━━━━━━━━\u001B[0m\u001B[37m\u001B[0m \u001B[1m11s\u001B[0m 6ms/step - accuracy: 0.9607 - loss: 0.1664 - val_accuracy: 0.9600 - val_loss: 0.2983 - learning_rate: 0.0100\n",
      "LEARNING_RATE: 0.009999999776482582\n",
      "Epoch 3/50\n",
      "\u001B[1m1865/1875\u001B[0m \u001B[32m━━━━━━━━━━━━━━━━━━━\u001B[0m\u001B[37m━\u001B[0m \u001B[1m0s\u001B[0m 6ms/step - accuracy: 0.9638 - loss: 0.1481\n",
      "Epoch 3: val_loss did not improve from 0.16758\n",
      "\u001B[1m1875/1875\u001B[0m \u001B[32m━━━━━━━━━━━━━━━━━━━━\u001B[0m\u001B[37m\u001B[0m \u001B[1m11s\u001B[0m 6ms/step - accuracy: 0.9637 - loss: 0.1481 - val_accuracy: 0.9631 - val_loss: 0.2537 - learning_rate: 0.0100\n",
      "LEARNING_RATE: 0.009999999776482582\n",
      "Epoch 4/50\n",
      "\u001B[1m1872/1875\u001B[0m \u001B[32m━━━━━━━━━━━━━━━━━━━\u001B[0m\u001B[37m━\u001B[0m \u001B[1m0s\u001B[0m 6ms/step - accuracy: 0.9618 - loss: 0.1602\n",
      "Epoch 4: val_loss did not improve from 0.16758\n",
      "\u001B[1m1875/1875\u001B[0m \u001B[32m━━━━━━━━━━━━━━━━━━━━\u001B[0m\u001B[37m\u001B[0m \u001B[1m13s\u001B[0m 7ms/step - accuracy: 0.9618 - loss: 0.1602 - val_accuracy: 0.9615 - val_loss: 0.2910 - learning_rate: 0.0100\n",
      "LEARNING_RATE: 0.009999999776482582\n",
      "Epoch 5/50\n",
      "\u001B[1m1867/1875\u001B[0m \u001B[32m━━━━━━━━━━━━━━━━━━━\u001B[0m\u001B[37m━\u001B[0m \u001B[1m0s\u001B[0m 6ms/step - accuracy: 0.9637 - loss: 0.1551\n",
      "Epoch 5: val_loss did not improve from 0.16758\n",
      "\u001B[1m1875/1875\u001B[0m \u001B[32m━━━━━━━━━━━━━━━━━━━━\u001B[0m\u001B[37m\u001B[0m \u001B[1m12s\u001B[0m 6ms/step - accuracy: 0.9637 - loss: 0.1551 - val_accuracy: 0.9668 - val_loss: 0.2904 - learning_rate: 0.0100\n"
     ]
    },
    {
     "data": {
      "text/plain": [
       "<keras.src.callbacks.history.History at 0x201c88c8550>"
      ]
     },
     "execution_count": 32,
     "metadata": {},
     "output_type": "execute_result"
    }
   ],
   "execution_count": 32
  },
  {
   "metadata": {},
   "cell_type": "code",
   "outputs": [],
   "execution_count": null,
   "source": "",
   "id": "42fe1419b83ea40b"
  }
 ],
 "metadata": {
  "kernelspec": {
   "display_name": "Python 3",
   "language": "python",
   "name": "python3"
  },
  "language_info": {
   "codemirror_mode": {
    "name": "ipython",
    "version": 2
   },
   "file_extension": ".py",
   "mimetype": "text/x-python",
   "name": "python",
   "nbconvert_exporter": "python",
   "pygments_lexer": "ipython2",
   "version": "2.7.6"
  }
 },
 "nbformat": 4,
 "nbformat_minor": 5
}
